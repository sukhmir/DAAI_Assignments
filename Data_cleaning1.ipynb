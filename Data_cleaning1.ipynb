{
 "cells": [
  {
   "cell_type": "markdown",
   "id": "de60f477",
   "metadata": {},
   "source": [
    "HOW TO CLEAN DATA WITH PYTHON\n",
    "Cleaning US Census Data\n",
    "You just got hired as a Data Analyst at the Census Bureau, which collects census data and creates interesting visualizations and insights from it.\n",
    "\n",
    "The person who had your job before you left you all the data they had for the most recent census. It is in multiple csv files. They didn’t use pandas, they would just look through these csv files manually whenever they wanted to find something. Sometimes they would copy and paste certain numbers into Excel to make charts.\n",
    "\n",
    "The thought of it makes you shiver. This is not scalable or repeatable.\n",
    "\n",
    "Your boss wants you to make some scatterplots and histograms by the end of the day. Can you get this data into pandas and into reasonable shape so that you can make these histograms?\n",
    "\n",
    "\n",
    "\n",
    "Inspect the Data!\n",
    "1.\n",
    "The first visualization your boss wants you to make is a scatterplot that shows average income in a state vs proportion of women in that state.\n",
    "\n",
    "Open some of the census csv files in the navigator. How are they named? What kind of information do they hold? Will they help us make this graph?\n",
    "\n",
    "2.\n",
    "It will be easier to inspect this data once we have it in a DataFrame. You can’t even call .head() on these csvs! How are you supposed to read them?\n",
    "\n",
    "Using glob, loop through the census files available and load them into DataFrames. Then, concatenate all of those DataFrames together into one DataFrame, called something like us_census.\n",
    "\n",
    "\n",
    "3.\n",
    "Look at the .columns and the .dtypes of the us_census DataFrame. Are those datatypes going to hinder you as you try to make histograms?\n",
    "\n",
    "4.\n",
    "Look at the .head() of the DataFrame so that you can understand why some of these dtypes are objects instead of integers or floats.\n",
    "\n",
    "Start to make a plan for how to convert these columns into the right types for manipulation.\n",
    "\n",
    "Regex to the Rescue\n",
    "5.\n",
    "Use regex to turn the Income column into a format that is ready for conversion into a numerical type.\n",
    "\n",
    "\n",
    "6.\n",
    "Look at the GenderPop column. We are going to want to separate this into two columns, the Men column, and the Women column.\n",
    "\n",
    "Split the column into those two new columns using str.split and separating out those results.\n",
    "\n",
    "7.\n",
    "Convert both of the columns into numerical datatypes.\n",
    "\n",
    "There is still an M or an F character in each entry! We should remove those before we convert.\n",
    "\n",
    "\n",
    "8.\n",
    "Now you should have the columns you need to make the graph and make sure your boss does not slam a ruler angrily on your desk because you’ve wasted your whole day cleaning your data with no results to show!\n",
    "\n",
    "Use matplotlib to make a scatterplot!\n",
    "\n",
    "plt.scatter(the_women_column, the_income_column) \n",
    "Remember to call plt.show() to see the graph!\n",
    "\n",
    "9.\n",
    "Did you get an error? These monstrous csv files probably have nan values in them! Print out your column with the number of women per state to see.\n",
    "\n",
    "We can fill in those nans by using pandas’ .fillna() function.\n",
    "\n",
    "You have the TotalPop per state, and you have the Men per state. As an estimate for the nan values in the Women column, you could use the TotalPop of that state minus the Men for that state.\n",
    "\n",
    "Print out the Women column after filling the nan values to see if it worked!\n",
    "\n",
    "10.\n",
    "We forgot to check for duplicates! Use .duplicated() on your census DataFrame to see if we have duplicate rows in there.\n",
    "\n",
    "11.\n",
    "Drop those duplicates using the .drop_duplicates() function.\n",
    "\n",
    "\n",
    "12.\n",
    "Make the scatterplot again. Now, it should be perfect! Your job is secure, for now.\n",
    "\n",
    "Histograms of Races\n",
    "13.\n",
    "Now, your boss wants you to make a bunch of histograms out of the race data that you have. Look at the .columns again to see what the race categories are.\n",
    "\n",
    "14.\n",
    "Try to make a histogram for each one!\n",
    "\n",
    "You will have to get the columns into numerical format, and those percentage signs will have to go.\n",
    "\n",
    "Don’t forget to fill the nan values with something that makes sense! You probably dropped the duplicate rows when making your last graph, but it couldn’t hurt to check for duplicates again.\n",
    "\n",
    "Get Creative\n",
    "15.\n",
    "Phew. You’ve definitely impressed your boss on your first day of work.\n",
    "\n",
    "But is there a way you really convey the power of pandas and Python over the drudgery of csv and Excel?\n",
    "\n",
    "Try to make some more interesting graphs to show your boss, and the world! You may need to clean the data even more to do it, or the cleaning you have already done may give you the ease of manipulation you’ve been searching for."
   ]
  },
  {
   "cell_type": "markdown",
   "id": "0e300c20",
   "metadata": {},
   "source": [
    "#### Inspect the Data! 1. The first visualization your boss wants you to make is a scatterplot that shows average income in a state vs proportion of women in that state. Open some of the census csv files in the navigator. How are they named? What kind of information do they hold? Will they help us make this graph?"
   ]
  },
  {
   "cell_type": "code",
   "execution_count": 36,
   "id": "7f0926af",
   "metadata": {},
   "outputs": [
    {
     "data": {
      "text/html": [
       "<div>\n",
       "<style scoped>\n",
       "    .dataframe tbody tr th:only-of-type {\n",
       "        vertical-align: middle;\n",
       "    }\n",
       "\n",
       "    .dataframe tbody tr th {\n",
       "        vertical-align: top;\n",
       "    }\n",
       "\n",
       "    .dataframe thead th {\n",
       "        text-align: right;\n",
       "    }\n",
       "</style>\n",
       "<table border=\"1\" class=\"dataframe\">\n",
       "  <thead>\n",
       "    <tr style=\"text-align: right;\">\n",
       "      <th></th>\n",
       "      <th>Unnamed: 0</th>\n",
       "      <th>State</th>\n",
       "      <th>TotalPop</th>\n",
       "      <th>Hispanic</th>\n",
       "      <th>White</th>\n",
       "      <th>Black</th>\n",
       "      <th>Native</th>\n",
       "      <th>Asian</th>\n",
       "      <th>Pacific</th>\n",
       "      <th>Income</th>\n",
       "      <th>GenderPop</th>\n",
       "    </tr>\n",
       "  </thead>\n",
       "  <tbody>\n",
       "    <tr>\n",
       "      <th>0</th>\n",
       "      <td>0</td>\n",
       "      <td>Alabama</td>\n",
       "      <td>4830620</td>\n",
       "      <td>3.75%</td>\n",
       "      <td>61.88%</td>\n",
       "      <td>31.25%</td>\n",
       "      <td>0.45%</td>\n",
       "      <td>1.05%</td>\n",
       "      <td>0.03%</td>\n",
       "      <td>$43,296.36</td>\n",
       "      <td>2341093M_2489527F</td>\n",
       "    </tr>\n",
       "    <tr>\n",
       "      <th>1</th>\n",
       "      <td>1</td>\n",
       "      <td>Alaska</td>\n",
       "      <td>733375</td>\n",
       "      <td>5.91%</td>\n",
       "      <td>60.91%</td>\n",
       "      <td>2.85%</td>\n",
       "      <td>16.39%</td>\n",
       "      <td>5.45%</td>\n",
       "      <td>1.06%</td>\n",
       "      <td>$70,354.74</td>\n",
       "      <td>384160M_349215F</td>\n",
       "    </tr>\n",
       "    <tr>\n",
       "      <th>2</th>\n",
       "      <td>2</td>\n",
       "      <td>Arizona</td>\n",
       "      <td>6641928</td>\n",
       "      <td>29.57%</td>\n",
       "      <td>57.12%</td>\n",
       "      <td>3.85%</td>\n",
       "      <td>4.36%</td>\n",
       "      <td>2.88%</td>\n",
       "      <td>0.17%</td>\n",
       "      <td>$54,207.82</td>\n",
       "      <td>3299088M_3342840F</td>\n",
       "    </tr>\n",
       "    <tr>\n",
       "      <th>3</th>\n",
       "      <td>3</td>\n",
       "      <td>Arkansas</td>\n",
       "      <td>2958208</td>\n",
       "      <td>6.22%</td>\n",
       "      <td>71.14%</td>\n",
       "      <td>18.97%</td>\n",
       "      <td>0.52%</td>\n",
       "      <td>1.14%</td>\n",
       "      <td>0.15%</td>\n",
       "      <td>$41,935.63</td>\n",
       "      <td>1451913M_1506295F</td>\n",
       "    </tr>\n",
       "    <tr>\n",
       "      <th>4</th>\n",
       "      <td>4</td>\n",
       "      <td>California</td>\n",
       "      <td>38421464</td>\n",
       "      <td>37.29%</td>\n",
       "      <td>40.22%</td>\n",
       "      <td>5.68%</td>\n",
       "      <td>0.41%</td>\n",
       "      <td>13.05%</td>\n",
       "      <td>0.35%</td>\n",
       "      <td>$67,264.78</td>\n",
       "      <td>19087135M_19334329F</td>\n",
       "    </tr>\n",
       "    <tr>\n",
       "      <th>5</th>\n",
       "      <td>5</td>\n",
       "      <td>Colorado</td>\n",
       "      <td>5278906</td>\n",
       "      <td>20.78%</td>\n",
       "      <td>69.90%</td>\n",
       "      <td>3.55%</td>\n",
       "      <td>0.57%</td>\n",
       "      <td>2.66%</td>\n",
       "      <td>NaN</td>\n",
       "      <td>$64,657.80</td>\n",
       "      <td>2648667M_2630239F</td>\n",
       "    </tr>\n",
       "  </tbody>\n",
       "</table>\n",
       "</div>"
      ],
      "text/plain": [
       "   Unnamed: 0       State  TotalPop Hispanic   White   Black  Native   Asian  \\\n",
       "0           0     Alabama   4830620    3.75%  61.88%  31.25%   0.45%   1.05%   \n",
       "1           1      Alaska    733375    5.91%  60.91%   2.85%  16.39%   5.45%   \n",
       "2           2     Arizona   6641928   29.57%  57.12%   3.85%   4.36%   2.88%   \n",
       "3           3    Arkansas   2958208    6.22%  71.14%  18.97%   0.52%   1.14%   \n",
       "4           4  California  38421464   37.29%  40.22%   5.68%   0.41%  13.05%   \n",
       "5           5    Colorado   5278906   20.78%  69.90%   3.55%   0.57%   2.66%   \n",
       "\n",
       "  Pacific       Income            GenderPop  \n",
       "0   0.03%  $43,296.36     2341093M_2489527F  \n",
       "1   1.06%  $70,354.74       384160M_349215F  \n",
       "2   0.17%  $54,207.82     3299088M_3342840F  \n",
       "3   0.15%  $41,935.63     1451913M_1506295F  \n",
       "4   0.35%  $67,264.78   19087135M_19334329F  \n",
       "5     NaN  $64,657.80     2648667M_2630239F  "
      ]
     },
     "execution_count": 36,
     "metadata": {},
     "output_type": "execute_result"
    }
   ],
   "source": [
    "import pandas as pd\n",
    "import re\n",
    "import matplotlib.pyplot as plt\n",
    "data=pd.read_csv(r\"C:\\Users\\Shoaib sukhmir\\AI_Data_science\\All_csvs\\states0.csv\")\n",
    "data"
   ]
  },
  {
   "cell_type": "code",
   "execution_count": 37,
   "id": "f1565c75",
   "metadata": {},
   "outputs": [],
   "source": [
    "data['split_gender']=data['GenderPop'].str.split(\"_\")"
   ]
  },
  {
   "cell_type": "code",
   "execution_count": 38,
   "id": "9513a3a4",
   "metadata": {},
   "outputs": [
    {
     "data": {
      "text/html": [
       "<div>\n",
       "<style scoped>\n",
       "    .dataframe tbody tr th:only-of-type {\n",
       "        vertical-align: middle;\n",
       "    }\n",
       "\n",
       "    .dataframe tbody tr th {\n",
       "        vertical-align: top;\n",
       "    }\n",
       "\n",
       "    .dataframe thead th {\n",
       "        text-align: right;\n",
       "    }\n",
       "</style>\n",
       "<table border=\"1\" class=\"dataframe\">\n",
       "  <thead>\n",
       "    <tr style=\"text-align: right;\">\n",
       "      <th></th>\n",
       "      <th>Unnamed: 0</th>\n",
       "      <th>State</th>\n",
       "      <th>TotalPop</th>\n",
       "      <th>Hispanic</th>\n",
       "      <th>White</th>\n",
       "      <th>Black</th>\n",
       "      <th>Native</th>\n",
       "      <th>Asian</th>\n",
       "      <th>Pacific</th>\n",
       "      <th>Income</th>\n",
       "      <th>GenderPop</th>\n",
       "      <th>split_gender</th>\n",
       "    </tr>\n",
       "  </thead>\n",
       "  <tbody>\n",
       "    <tr>\n",
       "      <th>0</th>\n",
       "      <td>0</td>\n",
       "      <td>Alabama</td>\n",
       "      <td>4830620</td>\n",
       "      <td>3.75%</td>\n",
       "      <td>61.88%</td>\n",
       "      <td>31.25%</td>\n",
       "      <td>0.45%</td>\n",
       "      <td>1.05%</td>\n",
       "      <td>0.03%</td>\n",
       "      <td>$43,296.36</td>\n",
       "      <td>2341093M_2489527F</td>\n",
       "      <td>[2341093M, 2489527F]</td>\n",
       "    </tr>\n",
       "    <tr>\n",
       "      <th>1</th>\n",
       "      <td>1</td>\n",
       "      <td>Alaska</td>\n",
       "      <td>733375</td>\n",
       "      <td>5.91%</td>\n",
       "      <td>60.91%</td>\n",
       "      <td>2.85%</td>\n",
       "      <td>16.39%</td>\n",
       "      <td>5.45%</td>\n",
       "      <td>1.06%</td>\n",
       "      <td>$70,354.74</td>\n",
       "      <td>384160M_349215F</td>\n",
       "      <td>[384160M, 349215F]</td>\n",
       "    </tr>\n",
       "    <tr>\n",
       "      <th>2</th>\n",
       "      <td>2</td>\n",
       "      <td>Arizona</td>\n",
       "      <td>6641928</td>\n",
       "      <td>29.57%</td>\n",
       "      <td>57.12%</td>\n",
       "      <td>3.85%</td>\n",
       "      <td>4.36%</td>\n",
       "      <td>2.88%</td>\n",
       "      <td>0.17%</td>\n",
       "      <td>$54,207.82</td>\n",
       "      <td>3299088M_3342840F</td>\n",
       "      <td>[3299088M, 3342840F]</td>\n",
       "    </tr>\n",
       "    <tr>\n",
       "      <th>3</th>\n",
       "      <td>3</td>\n",
       "      <td>Arkansas</td>\n",
       "      <td>2958208</td>\n",
       "      <td>6.22%</td>\n",
       "      <td>71.14%</td>\n",
       "      <td>18.97%</td>\n",
       "      <td>0.52%</td>\n",
       "      <td>1.14%</td>\n",
       "      <td>0.15%</td>\n",
       "      <td>$41,935.63</td>\n",
       "      <td>1451913M_1506295F</td>\n",
       "      <td>[1451913M, 1506295F]</td>\n",
       "    </tr>\n",
       "    <tr>\n",
       "      <th>4</th>\n",
       "      <td>4</td>\n",
       "      <td>California</td>\n",
       "      <td>38421464</td>\n",
       "      <td>37.29%</td>\n",
       "      <td>40.22%</td>\n",
       "      <td>5.68%</td>\n",
       "      <td>0.41%</td>\n",
       "      <td>13.05%</td>\n",
       "      <td>0.35%</td>\n",
       "      <td>$67,264.78</td>\n",
       "      <td>19087135M_19334329F</td>\n",
       "      <td>[19087135M, 19334329F]</td>\n",
       "    </tr>\n",
       "    <tr>\n",
       "      <th>5</th>\n",
       "      <td>5</td>\n",
       "      <td>Colorado</td>\n",
       "      <td>5278906</td>\n",
       "      <td>20.78%</td>\n",
       "      <td>69.90%</td>\n",
       "      <td>3.55%</td>\n",
       "      <td>0.57%</td>\n",
       "      <td>2.66%</td>\n",
       "      <td>NaN</td>\n",
       "      <td>$64,657.80</td>\n",
       "      <td>2648667M_2630239F</td>\n",
       "      <td>[2648667M, 2630239F]</td>\n",
       "    </tr>\n",
       "  </tbody>\n",
       "</table>\n",
       "</div>"
      ],
      "text/plain": [
       "   Unnamed: 0       State  TotalPop Hispanic   White   Black  Native   Asian  \\\n",
       "0           0     Alabama   4830620    3.75%  61.88%  31.25%   0.45%   1.05%   \n",
       "1           1      Alaska    733375    5.91%  60.91%   2.85%  16.39%   5.45%   \n",
       "2           2     Arizona   6641928   29.57%  57.12%   3.85%   4.36%   2.88%   \n",
       "3           3    Arkansas   2958208    6.22%  71.14%  18.97%   0.52%   1.14%   \n",
       "4           4  California  38421464   37.29%  40.22%   5.68%   0.41%  13.05%   \n",
       "5           5    Colorado   5278906   20.78%  69.90%   3.55%   0.57%   2.66%   \n",
       "\n",
       "  Pacific       Income            GenderPop            split_gender  \n",
       "0   0.03%  $43,296.36     2341093M_2489527F    [2341093M, 2489527F]  \n",
       "1   1.06%  $70,354.74       384160M_349215F      [384160M, 349215F]  \n",
       "2   0.17%  $54,207.82     3299088M_3342840F    [3299088M, 3342840F]  \n",
       "3   0.15%  $41,935.63     1451913M_1506295F    [1451913M, 1506295F]  \n",
       "4   0.35%  $67,264.78   19087135M_19334329F  [19087135M, 19334329F]  \n",
       "5     NaN  $64,657.80     2648667M_2630239F    [2648667M, 2630239F]  "
      ]
     },
     "execution_count": 38,
     "metadata": {},
     "output_type": "execute_result"
    }
   ],
   "source": [
    "data"
   ]
  },
  {
   "cell_type": "code",
   "execution_count": 39,
   "id": "25f9103a",
   "metadata": {},
   "outputs": [],
   "source": [
    "data[['Male','Female']]=pd.DataFrame(data['split_gender'].tolist())"
   ]
  },
  {
   "cell_type": "code",
   "execution_count": 40,
   "id": "a8c8114f",
   "metadata": {},
   "outputs": [],
   "source": [
    "df=data.drop('split_gender',axis=1)"
   ]
  },
  {
   "cell_type": "code",
   "execution_count": 41,
   "id": "40627f9c",
   "metadata": {},
   "outputs": [
    {
     "data": {
      "text/html": [
       "<div>\n",
       "<style scoped>\n",
       "    .dataframe tbody tr th:only-of-type {\n",
       "        vertical-align: middle;\n",
       "    }\n",
       "\n",
       "    .dataframe tbody tr th {\n",
       "        vertical-align: top;\n",
       "    }\n",
       "\n",
       "    .dataframe thead th {\n",
       "        text-align: right;\n",
       "    }\n",
       "</style>\n",
       "<table border=\"1\" class=\"dataframe\">\n",
       "  <thead>\n",
       "    <tr style=\"text-align: right;\">\n",
       "      <th></th>\n",
       "      <th>Unnamed: 0</th>\n",
       "      <th>State</th>\n",
       "      <th>TotalPop</th>\n",
       "      <th>Hispanic</th>\n",
       "      <th>White</th>\n",
       "      <th>Black</th>\n",
       "      <th>Native</th>\n",
       "      <th>Asian</th>\n",
       "      <th>Pacific</th>\n",
       "      <th>Income</th>\n",
       "      <th>GenderPop</th>\n",
       "      <th>Male</th>\n",
       "      <th>Female</th>\n",
       "    </tr>\n",
       "  </thead>\n",
       "  <tbody>\n",
       "    <tr>\n",
       "      <th>0</th>\n",
       "      <td>0</td>\n",
       "      <td>Alabama</td>\n",
       "      <td>4830620</td>\n",
       "      <td>3.75%</td>\n",
       "      <td>61.88%</td>\n",
       "      <td>31.25%</td>\n",
       "      <td>0.45%</td>\n",
       "      <td>1.05%</td>\n",
       "      <td>0.03%</td>\n",
       "      <td>$43,296.36</td>\n",
       "      <td>2341093M_2489527F</td>\n",
       "      <td>2341093M</td>\n",
       "      <td>2489527F</td>\n",
       "    </tr>\n",
       "    <tr>\n",
       "      <th>1</th>\n",
       "      <td>1</td>\n",
       "      <td>Alaska</td>\n",
       "      <td>733375</td>\n",
       "      <td>5.91%</td>\n",
       "      <td>60.91%</td>\n",
       "      <td>2.85%</td>\n",
       "      <td>16.39%</td>\n",
       "      <td>5.45%</td>\n",
       "      <td>1.06%</td>\n",
       "      <td>$70,354.74</td>\n",
       "      <td>384160M_349215F</td>\n",
       "      <td>384160M</td>\n",
       "      <td>349215F</td>\n",
       "    </tr>\n",
       "    <tr>\n",
       "      <th>2</th>\n",
       "      <td>2</td>\n",
       "      <td>Arizona</td>\n",
       "      <td>6641928</td>\n",
       "      <td>29.57%</td>\n",
       "      <td>57.12%</td>\n",
       "      <td>3.85%</td>\n",
       "      <td>4.36%</td>\n",
       "      <td>2.88%</td>\n",
       "      <td>0.17%</td>\n",
       "      <td>$54,207.82</td>\n",
       "      <td>3299088M_3342840F</td>\n",
       "      <td>3299088M</td>\n",
       "      <td>3342840F</td>\n",
       "    </tr>\n",
       "    <tr>\n",
       "      <th>3</th>\n",
       "      <td>3</td>\n",
       "      <td>Arkansas</td>\n",
       "      <td>2958208</td>\n",
       "      <td>6.22%</td>\n",
       "      <td>71.14%</td>\n",
       "      <td>18.97%</td>\n",
       "      <td>0.52%</td>\n",
       "      <td>1.14%</td>\n",
       "      <td>0.15%</td>\n",
       "      <td>$41,935.63</td>\n",
       "      <td>1451913M_1506295F</td>\n",
       "      <td>1451913M</td>\n",
       "      <td>1506295F</td>\n",
       "    </tr>\n",
       "    <tr>\n",
       "      <th>4</th>\n",
       "      <td>4</td>\n",
       "      <td>California</td>\n",
       "      <td>38421464</td>\n",
       "      <td>37.29%</td>\n",
       "      <td>40.22%</td>\n",
       "      <td>5.68%</td>\n",
       "      <td>0.41%</td>\n",
       "      <td>13.05%</td>\n",
       "      <td>0.35%</td>\n",
       "      <td>$67,264.78</td>\n",
       "      <td>19087135M_19334329F</td>\n",
       "      <td>19087135M</td>\n",
       "      <td>19334329F</td>\n",
       "    </tr>\n",
       "    <tr>\n",
       "      <th>5</th>\n",
       "      <td>5</td>\n",
       "      <td>Colorado</td>\n",
       "      <td>5278906</td>\n",
       "      <td>20.78%</td>\n",
       "      <td>69.90%</td>\n",
       "      <td>3.55%</td>\n",
       "      <td>0.57%</td>\n",
       "      <td>2.66%</td>\n",
       "      <td>NaN</td>\n",
       "      <td>$64,657.80</td>\n",
       "      <td>2648667M_2630239F</td>\n",
       "      <td>2648667M</td>\n",
       "      <td>2630239F</td>\n",
       "    </tr>\n",
       "  </tbody>\n",
       "</table>\n",
       "</div>"
      ],
      "text/plain": [
       "   Unnamed: 0       State  TotalPop Hispanic   White   Black  Native   Asian  \\\n",
       "0           0     Alabama   4830620    3.75%  61.88%  31.25%   0.45%   1.05%   \n",
       "1           1      Alaska    733375    5.91%  60.91%   2.85%  16.39%   5.45%   \n",
       "2           2     Arizona   6641928   29.57%  57.12%   3.85%   4.36%   2.88%   \n",
       "3           3    Arkansas   2958208    6.22%  71.14%  18.97%   0.52%   1.14%   \n",
       "4           4  California  38421464   37.29%  40.22%   5.68%   0.41%  13.05%   \n",
       "5           5    Colorado   5278906   20.78%  69.90%   3.55%   0.57%   2.66%   \n",
       "\n",
       "  Pacific       Income            GenderPop       Male     Female  \n",
       "0   0.03%  $43,296.36     2341093M_2489527F   2341093M   2489527F  \n",
       "1   1.06%  $70,354.74       384160M_349215F    384160M    349215F  \n",
       "2   0.17%  $54,207.82     3299088M_3342840F   3299088M   3342840F  \n",
       "3   0.15%  $41,935.63     1451913M_1506295F   1451913M   1506295F  \n",
       "4   0.35%  $67,264.78   19087135M_19334329F  19087135M  19334329F  \n",
       "5     NaN  $64,657.80     2648667M_2630239F   2648667M   2630239F  "
      ]
     },
     "execution_count": 41,
     "metadata": {},
     "output_type": "execute_result"
    }
   ],
   "source": [
    "df"
   ]
  },
  {
   "cell_type": "code",
   "execution_count": 54,
   "id": "cb359a4d",
   "metadata": {},
   "outputs": [],
   "source": [
    "df['Income'] = df['Income'].replace({'\\$': '', ',': ''}, regex=True)\n",
    "#df['Female']=df['Female'].replace('F','')\n",
    "df['Female'] = df['Female'].replace({'F': ''}, regex=True)\n",
    "\n",
    "df['Female']=df['Female'].astype(float)\n",
    "df['Income']=df['Income'].astype(float)"
   ]
  },
  {
   "cell_type": "code",
   "execution_count": 55,
   "id": "db2c685b",
   "metadata": {},
   "outputs": [
    {
     "data": {
      "text/plain": [
       "Unnamed: 0      int64\n",
       "State          object\n",
       "TotalPop        int64\n",
       "Hispanic       object\n",
       "White          object\n",
       "Black          object\n",
       "Native         object\n",
       "Asian          object\n",
       "Pacific        object\n",
       "Income        float64\n",
       "GenderPop      object\n",
       "Male           object\n",
       "Female        float64\n",
       "dtype: object"
      ]
     },
     "execution_count": 55,
     "metadata": {},
     "output_type": "execute_result"
    }
   ],
   "source": [
    "df.dtypes"
   ]
  },
  {
   "cell_type": "code",
   "execution_count": 56,
   "id": "4e70b116",
   "metadata": {},
   "outputs": [
    {
     "data": {
      "text/plain": [
       "Text(0, 0.5, 'Avarage income in a state')"
      ]
     },
     "execution_count": 56,
     "metadata": {},
     "output_type": "execute_result"
    },
    {
     "data": {
      "image/png": "[encoded data removed]",
      "text/plain": [
       "<Figure size 640x480 with 2 Axes>"
      ]
     },
     "metadata": {},
     "output_type": "display_data"
    }
   ],
   "source": [
    "female=df['Female']\n",
    "plt.scatter(df['State'],df['Income'],c=female)\n",
    "cbar=plt.colorbar()\n",
    "cbar.set_label(\"Propotion of a woman\")\n",
    "plt.xlabel(\"states\")\n",
    "plt.ylabel(\"Avarage income in a state\")\n",
    "\n"
   ]
  },
  {
   "cell_type": "markdown",
   "id": "5d24f6dd",
   "metadata": {},
   "source": [
    "#### It will be easier to inspect this data once we have it in a DataFrame. You can’t even call .head() on these csvs! How are you supposed to read them? Using glob, loop through the census files available and load them into DataFrames. Then, concatenate all of those DataFrames together into one DataFrame, called something like us_census."
   ]
  },
  {
   "cell_type": "code",
   "execution_count": 148,
   "id": "47a3c8b1",
   "metadata": {},
   "outputs": [],
   "source": [
    "import glob\n",
    "\n",
    "file_paths = glob.glob(r'C:\\Users\\Shoaib sukhmir\\AI_Data_science\\All_csvs/*.csv')\n",
    "dataframe=[]\n"
   ]
  },
  {
   "cell_type": "code",
   "execution_count": 149,
   "id": "466fd70c",
   "metadata": {},
   "outputs": [],
   "source": [
    "for file_path in file_paths:\n",
    "    df=pd.read_csv(file_path)\n",
    "    dataframe.append(df)"
   ]
  },
  {
   "cell_type": "code",
   "execution_count": 150,
   "id": "9cbaa1f6",
   "metadata": {},
   "outputs": [
    {
     "name": "stdout",
     "output_type": "stream",
     "text": [
      "[   Unnamed: 0       State  TotalPop Hispanic   White   Black  Native   Asian  \\\n",
      "0           0     Alabama   4830620    3.75%  61.88%  31.25%   0.45%   1.05%   \n",
      "1           1      Alaska    733375    5.91%  60.91%   2.85%  16.39%   5.45%   \n",
      "2           2     Arizona   6641928   29.57%  57.12%   3.85%   4.36%   2.88%   \n",
      "3           3    Arkansas   2958208    6.22%  71.14%  18.97%   0.52%   1.14%   \n",
      "4           4  California  38421464   37.29%  40.22%   5.68%   0.41%  13.05%   \n",
      "5           5    Colorado   5278906   20.78%  69.90%   3.55%   0.57%   2.66%   \n",
      "\n",
      "  Pacific       Income            GenderPop  \n",
      "0   0.03%  $43,296.36     2341093M_2489527F  \n",
      "1   1.06%  $70,354.74       384160M_349215F  \n",
      "2   0.17%  $54,207.82     3299088M_3342840F  \n",
      "3   0.15%  $41,935.63     1451913M_1506295F  \n",
      "4   0.35%  $67,264.78   19087135M_19334329F  \n",
      "5     NaN  $64,657.80     2648667M_2630239F  ,    Unnamed: 0                 State  TotalPop             Hispanic  \\\n",
      "0           0              Colorado   5278906   20.78438003220608%   \n",
      "1           1           Connecticut   3593222  15.604830917874388%   \n",
      "2           2              Delaware    926454    8.82476635514019%   \n",
      "3           3  District of Columbia    647484   9.165921787709499%   \n",
      "4           4               Florida  19645772    21.3385426653884%   \n",
      "5           5               Georgia  10006693   8.418242207460397%   \n",
      "\n",
      "                 White                Black                Native  \\\n",
      "0   69.89557165861504%   3.546376811594201%   0.5738325281803548%   \n",
      "1    67.6770531400966%   10.34806763285027%  0.12620772946859898%   \n",
      "2   64.63271028037383%  20.743925233644834%  0.25981308411214965%   \n",
      "3  33.103910614525134%   51.77653631284915%  0.20055865921787713%   \n",
      "4   59.08374880153398%  15.165675934803444%   0.2104506232023015%   \n",
      "5   54.28630556974962%   32.08829841594277%  0.18758303525804798%   \n",
      "\n",
      "                 Asian                Pacific               Income  \\\n",
      "0   2.661996779388082%                    NaN  $64657.801787164906   \n",
      "1   4.021980676328502%  0.018599033816425123%    $76146.5605875153   \n",
      "2  3.2686915887850483%                    NaN   $61827.97663551402   \n",
      "3  3.3832402234636865%  0.029608938547486034%   $75466.36363636363   \n",
      "4  2.2831735378715257%   0.05151006711409391%  $50690.194986743794   \n",
      "5  3.0976494634644895%  0.046601941747572824%   $50811.08205128205   \n",
      "\n",
      "            GenderPop  \n",
      "0   2648667M_2630239F  \n",
      "1   1751607M_1841615F  \n",
      "2     448413M_478041F  \n",
      "3     306674M_340810F  \n",
      "4  9600009M_10045763F  \n",
      "5   4883331M_5123362F  ,    Unnamed: 0     State  TotalPop             Hispanic                White  \\\n",
      "0           0   Georgia  10006693   8.418242207460397%   54.28630556974962%   \n",
      "1           1    Hawaii   1406299   9.186708860759486%  25.032278481012657%   \n",
      "2           2     Idaho   1616547  11.505369127516781%    83.1362416107383%   \n",
      "3           3  Illinois  12873761  15.601733547351516%   60.85980738362764%   \n",
      "4           4   Indiana   6568645   6.536744186046501%   78.43189368770771%   \n",
      "5           5      Iowa   3093526    5.30364520048603%   87.71968408262464%   \n",
      "\n",
      "                 Black                Native                Asian  \\\n",
      "0   32.08829841594277%  0.18758303525804798%  3.0976494634644895%   \n",
      "1   2.052848101265823%   0.1449367088607596%   36.59208860759495%   \n",
      "2  0.5667785234899323%    1.468120805369128%   1.135906040268457%   \n",
      "3  17.108410914927717%  0.11842696629213499%   4.475377207062604%   \n",
      "4   11.18697674418606%   0.1940863787375415%  1.5782724252491687%   \n",
      "5  3.2569866342648868%   0.2897934386391251%   1.699392466585662%   \n",
      "\n",
      "                 Pacific              Income          GenderPop  \n",
      "0  0.046601941747572824%  $50811.08205128205  4883331M_5123362F  \n",
      "1     8.758860759493672%  $73264.42628205128    709871M_696428F  \n",
      "2    0.1271812080536914%  $48017.31543624161    810464M_806083F  \n",
      "3   0.02003210272873195%  $59587.04887459807  6316899M_6556862F  \n",
      "4   0.03262458471760798%  $48616.22784810127  3235263M_3333382F  \n",
      "5  0.055164034021871235%  $53017.75304136253  1534595M_1558931F  ,    Unnamed: 0      State  TotalPop             Hispanic                White  \\\n",
      "0           0       Iowa   3093526    5.30364520048603%   87.71968408262464%   \n",
      "1           1     Kansas   2892987  11.644342105263148%   75.95828947368425%   \n",
      "2           2   Kentucky   4397353   3.222993688007212%    85.2307484220019%   \n",
      "3           3  Louisiana   4625253   4.866489361702128%  54.978546099290796%   \n",
      "4           4      Maine   1329100  1.4319088319088318%   93.70740740740736%   \n",
      "5           5   Maryland   5930538    8.47249820014399%     52.679049676026%   \n",
      "\n",
      "                 Black                Native                Asian  \\\n",
      "0  3.2569866342648868%   0.2897934386391251%   1.699392466585662%   \n",
      "1     6.5678947368421%   0.7339473684210529%   2.331052631578946%   \n",
      "2   8.272317403065832%   0.1666366095581602%  1.1298467087466182%   \n",
      "3   36.32624113475175%  0.48430851063829816%   1.669060283687941%   \n",
      "4  1.1344729344729356%   0.7883190883190888%  0.9658119658119669%   \n",
      "5    30.6777537796976%  0.20309575233981278%   5.325413966882652%   \n",
      "\n",
      "                 Pacific               Income          GenderPop  \n",
      "0  0.055164034021871235%   $53017.75304136253  1534595M_1558931F  \n",
      "1                    NaN  $53885.612648221344  1439862M_1453125F  \n",
      "2  0.046438232642019836%   $45285.80253623189  2164208M_2233145F  \n",
      "3  0.039184397163120555%   $44957.99376114082  2261156M_2364097F  \n",
      "4   0.01566951566951567%   $49181.97435897436    650081M_679019F  \n",
      "5   0.03628509719222463%   $78765.40072463769         2872643M_F  ,    Unnamed: 0          State  TotalPop             Hispanic  \\\n",
      "0           0       Maryland   5930538    8.47249820014399%   \n",
      "1           1  Massachusetts   6705586  11.461065573770476%   \n",
      "2           2       Michigan   9900571   4.634992732558134%   \n",
      "3           3      Minnesota   5419171   5.152923538230896%   \n",
      "4           4    Mississippi   2988081   2.842401215805473%   \n",
      "5           5       Missouri   6045448   4.037247838616718%   \n",
      "\n",
      "                White                Black                Native  \\\n",
      "0    52.679049676026%    30.6777537796976%  0.20309575233981278%   \n",
      "1  73.04105191256845%    6.83312841530056%  0.12827868852459007%   \n",
      "2  72.38172238372084%  17.633103197674423%  0.48441133720930313%   \n",
      "3  81.42706146926535%    5.65982008995502%    1.069040479760119%   \n",
      "4  53.28632218844981%  41.491945288753804%   0.3899696048632216%   \n",
      "5    77.508069164265%  14.122118155619594%  0.36332853025936646%   \n",
      "\n",
      "                 Asian                Pacific              Income  \\\n",
      "0   5.325413966882652%   0.03628509719222463%  $78765.40072463769   \n",
      "1   5.835655737704914%    0.0198087431693989%  $72838.93672627235   \n",
      "2  2.4231104651162796%   0.01954941860465116%  $51201.83003663004   \n",
      "3   4.156071964017996%  0.032908545727136446%    $62820.833959429   \n",
      "4  0.8764437689969605%  0.015045592705167175%  $38909.91920731707   \n",
      "5  1.6244956772334296%   0.10165706051873193%  $49763.98772563177   \n",
      "\n",
      "           GenderPop  \n",
      "0         2872643M_F  \n",
      "1  3249650M_3455936F  \n",
      "2  4861973M_5038598F  \n",
      "3  2692166M_2727005F  \n",
      "4  1451723M_1536358F  \n",
      "5  2964003M_3081445F  ,    Unnamed: 0          State  TotalPop             Hispanic  \\\n",
      "0           0       Missouri   6045448   4.037247838616718%   \n",
      "1           1        Montana   1014699  3.2688888888888896%   \n",
      "2           2       Nebraska   1869365   9.203759398496235%   \n",
      "3           3         Nevada   2798636  27.100883652430046%   \n",
      "4           4  New Hampshire   1324201  3.3219178082191796%   \n",
      "5           5     New Jersey   8904413   18.74950049950049%   \n",
      "\n",
      "                 White                Black                Native  \\\n",
      "0     77.508069164265%  14.122118155619594%  0.36332853025936646%   \n",
      "1   86.41555555555554%  0.4292592592592591%   7.0607407407407425%   \n",
      "2   81.13947368421056%   4.956203007518794%   0.8644736842105263%   \n",
      "3   53.23932253313698%   7.739617083946994%   1.0871870397643593%   \n",
      "4   91.31917808219184%  1.2277397260273974%  0.14280821917808229%   \n",
      "5  56.488761238761285%  14.387862137862117%  0.11533466533466513%   \n",
      "\n",
      "                 Asian                Pacific               Income  \\\n",
      "0  1.6244956772334296%   0.10165706051873193%   $49763.98772563177   \n",
      "1  0.5703703703703705%   0.07222222222222222%  $47645.682835820895   \n",
      "2  1.8590225563909788%   0.05714285714285715%  $55916.469696969696   \n",
      "3   7.095729013254786%    0.5745213549337267%  $55526.525073746314   \n",
      "4   2.191438356164382%  0.016095890410958904%    $68728.8595890411   \n",
      "5   8.159990009990018%  0.031318681318681325%   $76581.08341708542   \n",
      "\n",
      "           GenderPop  \n",
      "0  2964003M_3081445F  \n",
      "1          510163M_F  \n",
      "2    929606M_939759F  \n",
      "3  1407735M_1390901F  \n",
      "4    653484M_670717F  \n",
      "5  4343027M_4561386F  ,    Unnamed: 0           State  TotalPop             Hispanic  \\\n",
      "0           0      New Jersey   8904413   18.74950049950049%   \n",
      "1           1      New Mexico   2084117   45.28293172690762%   \n",
      "2           2        New York  19673174  17.241424747786684%   \n",
      "3           3  North Carolina   9845333   8.464762782128062%   \n",
      "4           4    North Dakota    721640   2.832682926829267%   \n",
      "5           5            Ohio  11575977  3.6720843250595037%   \n",
      "\n",
      "                 White                Black                Native  \\\n",
      "0  56.488761238761285%  14.387862137862117%  0.11533466533466513%   \n",
      "1   40.69799196787147%  1.7550200803212852%    9.248594377510045%   \n",
      "2    56.4701050030883%  15.668046119003515%  0.32163887173152117%   \n",
      "3    64.5976508521419%    21.3951174573929%   1.0854905573468434%   \n",
      "4   87.44829268292683%  1.2843902439024397%    5.651219512195119%   \n",
      "5   75.90306018361096%  16.207276436586163%  0.16888813328799712%   \n",
      "\n",
      "                 Asian                Pacific               Income  \\\n",
      "0   8.159990009990018%  0.031318681318681325%   $76581.08341708542   \n",
      "1    1.23433734939759%   0.04277108433734938%   $47329.96787148595   \n",
      "2  7.8971587399629355%  0.023450689726168417%   $64290.74911292006   \n",
      "3   2.317457392906495%   0.05232611699677568%   $49937.46413697362   \n",
      "4  0.9619512195121945%                    NaN  $58188.112195121954   \n",
      "5  1.6210812648758952%  0.022645358721523304%   $49655.24846625767   \n",
      "\n",
      "            GenderPop  \n",
      "0   4343027M_4561386F  \n",
      "1   1032414M_1051703F  \n",
      "2  9541801M_10131373F  \n",
      "3   4795408M_5049925F  \n",
      "4     367963M_353677F  \n",
      "5   5662893M_5913084F  ,    Unnamed: 0         State  TotalPop             Hispanic  \\\n",
      "0           0          Ohio  11575977  3.6720843250595037%   \n",
      "1           1      Oklahoma   3849733    10.0799043062201%   \n",
      "2           2        Oregon   3939233  11.441212121212132%   \n",
      "3           3  Pennsylvania  12779559   6.128013741411624%   \n",
      "4           4   Puerto Rico   3583073   98.89357384441935%   \n",
      "5           5  Rhode Island   1053661  13.356666666666678%   \n",
      "\n",
      "                 White                Black                  Native  \\\n",
      "0   75.90306018361096%  16.207276436586163%    0.16888813328799712%   \n",
      "1   66.05942583732046%   8.314736842105255%      6.716842105263157%   \n",
      "2   78.39551515151517%   1.730787878787877%     1.0002424242424257%   \n",
      "3   77.38385384134914%  11.633947532791995%    0.11926920674578385%   \n",
      "4  0.7736189402480265%  0.0925591882750846%  0.0028184892897406984%   \n",
      "5   74.32541666666665%    5.68291666666667%     0.3462500000000001%   \n",
      "\n",
      "                  Asian                 Pacific               Income  \\\n",
      "0   1.6210812648758952%   0.022645358721523304%   $49655.24846625767   \n",
      "1   1.8011483253588516%    0.10622009569377985%   $48100.85426653883   \n",
      "2    3.594909090909088%     0.3453333333333332%   $54271.90181818182   \n",
      "3   2.7977514053716495%   0.019394128669581522%   $56170.46451005025   \n",
      "4  0.07519729425028186%  0.0012401352874859078%  $20720.538285714287   \n",
      "5   3.2474999999999983%   0.035833333333333335%  $59125.270833333336   \n",
      "\n",
      "           GenderPop  \n",
      "0  5662893M_5913084F  \n",
      "1  1906944M_1942789F  \n",
      "2  1948453M_1990780F  \n",
      "3  6245344M_6534215F  \n",
      "4  1713860M_1869213F  \n",
      "5    510388M_543273F  ,    Unnamed: 0           State  TotalPop             Hispanic  \\\n",
      "0           0    Rhode Island   1053661  13.356666666666678%   \n",
      "1           1  South Carolina   4777576   5.056684981684991%   \n",
      "2           2    South Dakota    843190  3.2396396396396376%   \n",
      "3           3       Tennessee   6499615   4.720026972353339%   \n",
      "4           4           Texas  26538614   38.04673809068304%   \n",
      "5           5            Utah   2903379  13.468376068376063%   \n",
      "\n",
      "                 White                Black                Native  \\\n",
      "0   74.32541666666665%    5.68291666666667%   0.3462500000000001%   \n",
      "1  62.888736263736185%   28.75091575091577%   0.2923992673992673%   \n",
      "2   82.50090090090092%  1.4238738738738752%    9.417567567567566%   \n",
      "3   73.49008766014822%  18.283816587997297%  0.22663519892110592%   \n",
      "4  44.687908934379145%   11.65004782858236%  0.26114405969007126%   \n",
      "5   79.40683760683764%  1.0179487179487194%   1.0813675213675222%   \n",
      "\n",
      "                 Asian                Pacific               Income  \\\n",
      "0  3.2474999999999983%  0.035833333333333335%  $59125.270833333336   \n",
      "1   1.249175824175822%  0.046978021978021964%  $46296.807763401106   \n",
      "2  1.0193693693693688%   0.04189189189189189%   $51805.40540540541   \n",
      "3  1.4072825354012126%   0.04315576534052599%  $47328.083616587355   \n",
      "4  3.6696958102161825%   0.06881576430074614%  $55874.522600500095   \n",
      "5   2.196068376068376%    0.8259829059829059%   $63488.91780821918   \n",
      "\n",
      "             GenderPop  \n",
      "0      510388M_543273F  \n",
      "1    2322409M_2455167F  \n",
      "2      423477M_419713F  \n",
      "3    3167756M_3331859F  \n",
      "4  13171316M_13367298F  \n",
      "5    1459229M_1444150F  ,    Unnamed: 0          State  TotalPop             Hispanic  \\\n",
      "0           0           Utah   2903379  13.468376068376063%   \n",
      "1           1        Vermont    626604  1.6092896174863391%   \n",
      "2           2       Virginia   8256630     8.0110164981373%   \n",
      "3           3     Washington   6985464  11.140968858131506%   \n",
      "4           4  West Virginia   1851420   1.290909090909089%   \n",
      "5           5      Wisconsin   5742117   6.683333333333334%   \n",
      "\n",
      "                 White                Black                Native  \\\n",
      "0   79.40683760683764%  1.0179487179487194%   1.0813675213675222%   \n",
      "1   93.98306010928961%  0.9808743169398909%    0.301639344262295%   \n",
      "2  63.271048430015945%   20.17599787120807%  0.21245343267695582%   \n",
      "3   72.03840830449816%   3.384429065743947%   1.4107266435986163%   \n",
      "4   92.17623966942146%  3.6628099173553723%  0.15268595041322316%   \n",
      "5   79.86400862068966%   8.195186781609202%   0.9536637931034483%   \n",
      "\n",
      "                 Asian                Pacific               Income  \\\n",
      "0   2.196068376068376%    0.8259829059829059%   $63488.91780821918   \n",
      "1  1.2387978142076501%   0.03060109289617486%   $55602.96721311475   \n",
      "2   5.455242150079845%   0.06471527408195847%   $72866.01341201717   \n",
      "3   7.022006920415224%     0.609896193771627%   $64493.76768377254   \n",
      "4  0.6824380165289253%   0.02644628099173554%   $41437.11157024794   \n",
      "5   2.404238505747124%  0.020833333333333332%  $53898.889208633096   \n",
      "\n",
      "           GenderPop  \n",
      "0  1459229M_1444150F  \n",
      "1    308573M_318031F  \n",
      "2  4060948M_4195682F  \n",
      "3  3487725M_3497739F  \n",
      "4    913631M_937789F  \n",
      "5  2851385M_2890732F  ]\n"
     ]
    }
   ],
   "source": [
    "print(dataframe)"
   ]
  },
  {
   "cell_type": "code",
   "execution_count": 151,
   "id": "21d0d382",
   "metadata": {},
   "outputs": [
    {
     "data": {
      "text/html": [
       "<div>\n",
       "<style scoped>\n",
       "    .dataframe tbody tr th:only-of-type {\n",
       "        vertical-align: middle;\n",
       "    }\n",
       "\n",
       "    .dataframe tbody tr th {\n",
       "        vertical-align: top;\n",
       "    }\n",
       "\n",
       "    .dataframe thead th {\n",
       "        text-align: right;\n",
       "    }\n",
       "</style>\n",
       "<table border=\"1\" class=\"dataframe\">\n",
       "  <thead>\n",
       "    <tr style=\"text-align: right;\">\n",
       "      <th></th>\n",
       "      <th>Unnamed: 0</th>\n",
       "      <th>State</th>\n",
       "      <th>TotalPop</th>\n",
       "      <th>Hispanic</th>\n",
       "      <th>White</th>\n",
       "      <th>Black</th>\n",
       "      <th>Native</th>\n",
       "      <th>Asian</th>\n",
       "      <th>Pacific</th>\n",
       "      <th>Income</th>\n",
       "      <th>GenderPop</th>\n",
       "    </tr>\n",
       "  </thead>\n",
       "  <tbody>\n",
       "    <tr>\n",
       "      <th>0</th>\n",
       "      <td>0</td>\n",
       "      <td>Alabama</td>\n",
       "      <td>4830620</td>\n",
       "      <td>3.75%</td>\n",
       "      <td>61.88%</td>\n",
       "      <td>31.25%</td>\n",
       "      <td>0.45%</td>\n",
       "      <td>1.05%</td>\n",
       "      <td>0.03%</td>\n",
       "      <td>$43,296.36</td>\n",
       "      <td>2341093M_2489527F</td>\n",
       "    </tr>\n",
       "    <tr>\n",
       "      <th>1</th>\n",
       "      <td>1</td>\n",
       "      <td>Alaska</td>\n",
       "      <td>733375</td>\n",
       "      <td>5.91%</td>\n",
       "      <td>60.91%</td>\n",
       "      <td>2.85%</td>\n",
       "      <td>16.39%</td>\n",
       "      <td>5.45%</td>\n",
       "      <td>1.06%</td>\n",
       "      <td>$70,354.74</td>\n",
       "      <td>384160M_349215F</td>\n",
       "    </tr>\n",
       "    <tr>\n",
       "      <th>2</th>\n",
       "      <td>2</td>\n",
       "      <td>Arizona</td>\n",
       "      <td>6641928</td>\n",
       "      <td>29.57%</td>\n",
       "      <td>57.12%</td>\n",
       "      <td>3.85%</td>\n",
       "      <td>4.36%</td>\n",
       "      <td>2.88%</td>\n",
       "      <td>0.17%</td>\n",
       "      <td>$54,207.82</td>\n",
       "      <td>3299088M_3342840F</td>\n",
       "    </tr>\n",
       "    <tr>\n",
       "      <th>3</th>\n",
       "      <td>3</td>\n",
       "      <td>Arkansas</td>\n",
       "      <td>2958208</td>\n",
       "      <td>6.22%</td>\n",
       "      <td>71.14%</td>\n",
       "      <td>18.97%</td>\n",
       "      <td>0.52%</td>\n",
       "      <td>1.14%</td>\n",
       "      <td>0.15%</td>\n",
       "      <td>$41,935.63</td>\n",
       "      <td>1451913M_1506295F</td>\n",
       "    </tr>\n",
       "    <tr>\n",
       "      <th>4</th>\n",
       "      <td>4</td>\n",
       "      <td>California</td>\n",
       "      <td>38421464</td>\n",
       "      <td>37.29%</td>\n",
       "      <td>40.22%</td>\n",
       "      <td>5.68%</td>\n",
       "      <td>0.41%</td>\n",
       "      <td>13.05%</td>\n",
       "      <td>0.35%</td>\n",
       "      <td>$67,264.78</td>\n",
       "      <td>19087135M_19334329F</td>\n",
       "    </tr>\n",
       "  </tbody>\n",
       "</table>\n",
       "</div>"
      ],
      "text/plain": [
       "   Unnamed: 0       State  TotalPop Hispanic   White   Black  Native   Asian  \\\n",
       "0           0     Alabama   4830620    3.75%  61.88%  31.25%   0.45%   1.05%   \n",
       "1           1      Alaska    733375    5.91%  60.91%   2.85%  16.39%   5.45%   \n",
       "2           2     Arizona   6641928   29.57%  57.12%   3.85%   4.36%   2.88%   \n",
       "3           3    Arkansas   2958208    6.22%  71.14%  18.97%   0.52%   1.14%   \n",
       "4           4  California  38421464   37.29%  40.22%   5.68%   0.41%  13.05%   \n",
       "\n",
       "  Pacific       Income            GenderPop  \n",
       "0   0.03%  $43,296.36     2341093M_2489527F  \n",
       "1   1.06%  $70,354.74       384160M_349215F  \n",
       "2   0.17%  $54,207.82     3299088M_3342840F  \n",
       "3   0.15%  $41,935.63     1451913M_1506295F  \n",
       "4   0.35%  $67,264.78   19087135M_19334329F  "
      ]
     },
     "execution_count": 151,
     "metadata": {},
     "output_type": "execute_result"
    }
   ],
   "source": [
    "us_census=pd.concat(dataframe,ignore_index=True)\n",
    "us_census.head()"
   ]
  },
  {
   "cell_type": "markdown",
   "id": "409cd5fc",
   "metadata": {},
   "source": [
    "#### Look at the .columns and the .dtypes of the us_census DataFrame. Are those datatypes going to hinder you as you try to make histograms?"
   ]
  },
  {
   "cell_type": "markdown",
   "id": "ef91278d",
   "metadata": {},
   "source": [
    "# NO! because each column has different data type"
   ]
  },
  {
   "cell_type": "markdown",
   "id": "c953fe95",
   "metadata": {},
   "source": [
    "#### Look at the .head() of the DataFrame so that you can understand why some of these dtypes are objects instead of integers or floats."
   ]
  },
  {
   "cell_type": "code",
   "execution_count": 152,
   "id": "6cde56b3",
   "metadata": {},
   "outputs": [
    {
     "data": {
      "text/html": [
       "<div>\n",
       "<style scoped>\n",
       "    .dataframe tbody tr th:only-of-type {\n",
       "        vertical-align: middle;\n",
       "    }\n",
       "\n",
       "    .dataframe tbody tr th {\n",
       "        vertical-align: top;\n",
       "    }\n",
       "\n",
       "    .dataframe thead th {\n",
       "        text-align: right;\n",
       "    }\n",
       "</style>\n",
       "<table border=\"1\" class=\"dataframe\">\n",
       "  <thead>\n",
       "    <tr style=\"text-align: right;\">\n",
       "      <th></th>\n",
       "      <th>Unnamed: 0</th>\n",
       "      <th>State</th>\n",
       "      <th>TotalPop</th>\n",
       "      <th>Hispanic</th>\n",
       "      <th>White</th>\n",
       "      <th>Black</th>\n",
       "      <th>Native</th>\n",
       "      <th>Asian</th>\n",
       "      <th>Pacific</th>\n",
       "      <th>Income</th>\n",
       "      <th>GenderPop</th>\n",
       "    </tr>\n",
       "  </thead>\n",
       "  <tbody>\n",
       "    <tr>\n",
       "      <th>0</th>\n",
       "      <td>0</td>\n",
       "      <td>Alabama</td>\n",
       "      <td>4830620</td>\n",
       "      <td>3.75%</td>\n",
       "      <td>61.88%</td>\n",
       "      <td>31.25%</td>\n",
       "      <td>0.45%</td>\n",
       "      <td>1.05%</td>\n",
       "      <td>0.03%</td>\n",
       "      <td>$43,296.36</td>\n",
       "      <td>2341093M_2489527F</td>\n",
       "    </tr>\n",
       "    <tr>\n",
       "      <th>1</th>\n",
       "      <td>1</td>\n",
       "      <td>Alaska</td>\n",
       "      <td>733375</td>\n",
       "      <td>5.91%</td>\n",
       "      <td>60.91%</td>\n",
       "      <td>2.85%</td>\n",
       "      <td>16.39%</td>\n",
       "      <td>5.45%</td>\n",
       "      <td>1.06%</td>\n",
       "      <td>$70,354.74</td>\n",
       "      <td>384160M_349215F</td>\n",
       "    </tr>\n",
       "    <tr>\n",
       "      <th>2</th>\n",
       "      <td>2</td>\n",
       "      <td>Arizona</td>\n",
       "      <td>6641928</td>\n",
       "      <td>29.57%</td>\n",
       "      <td>57.12%</td>\n",
       "      <td>3.85%</td>\n",
       "      <td>4.36%</td>\n",
       "      <td>2.88%</td>\n",
       "      <td>0.17%</td>\n",
       "      <td>$54,207.82</td>\n",
       "      <td>3299088M_3342840F</td>\n",
       "    </tr>\n",
       "    <tr>\n",
       "      <th>3</th>\n",
       "      <td>3</td>\n",
       "      <td>Arkansas</td>\n",
       "      <td>2958208</td>\n",
       "      <td>6.22%</td>\n",
       "      <td>71.14%</td>\n",
       "      <td>18.97%</td>\n",
       "      <td>0.52%</td>\n",
       "      <td>1.14%</td>\n",
       "      <td>0.15%</td>\n",
       "      <td>$41,935.63</td>\n",
       "      <td>1451913M_1506295F</td>\n",
       "    </tr>\n",
       "    <tr>\n",
       "      <th>4</th>\n",
       "      <td>4</td>\n",
       "      <td>California</td>\n",
       "      <td>38421464</td>\n",
       "      <td>37.29%</td>\n",
       "      <td>40.22%</td>\n",
       "      <td>5.68%</td>\n",
       "      <td>0.41%</td>\n",
       "      <td>13.05%</td>\n",
       "      <td>0.35%</td>\n",
       "      <td>$67,264.78</td>\n",
       "      <td>19087135M_19334329F</td>\n",
       "    </tr>\n",
       "  </tbody>\n",
       "</table>\n",
       "</div>"
      ],
      "text/plain": [
       "   Unnamed: 0       State  TotalPop Hispanic   White   Black  Native   Asian  \\\n",
       "0           0     Alabama   4830620    3.75%  61.88%  31.25%   0.45%   1.05%   \n",
       "1           1      Alaska    733375    5.91%  60.91%   2.85%  16.39%   5.45%   \n",
       "2           2     Arizona   6641928   29.57%  57.12%   3.85%   4.36%   2.88%   \n",
       "3           3    Arkansas   2958208    6.22%  71.14%  18.97%   0.52%   1.14%   \n",
       "4           4  California  38421464   37.29%  40.22%   5.68%   0.41%  13.05%   \n",
       "\n",
       "  Pacific       Income            GenderPop  \n",
       "0   0.03%  $43,296.36     2341093M_2489527F  \n",
       "1   1.06%  $70,354.74       384160M_349215F  \n",
       "2   0.17%  $54,207.82     3299088M_3342840F  \n",
       "3   0.15%  $41,935.63     1451913M_1506295F  \n",
       "4   0.35%  $67,264.78   19087135M_19334329F  "
      ]
     },
     "execution_count": 152,
     "metadata": {},
     "output_type": "execute_result"
    }
   ],
   "source": [
    "us_census.head()"
   ]
  },
  {
   "cell_type": "markdown",
   "id": "b9166cdc",
   "metadata": {},
   "source": [
    "#### Regex to the Rescue 5. Use regex to turn the Income column into a format that is ready for conversion into a numerical type"
   ]
  },
  {
   "cell_type": "code",
   "execution_count": 153,
   "id": "690e12ea",
   "metadata": {},
   "outputs": [
    {
     "data": {
      "text/plain": [
       "0              43296.36 \n",
       "1              70354.74 \n",
       "2              54207.82 \n",
       "3              41935.63 \n",
       "4              67264.78 \n",
       "5              64657.80 \n",
       "6     64657.801787164906\n",
       "7       76146.5605875153\n",
       "8      61827.97663551402\n",
       "9      75466.36363636363\n",
       "10    50690.194986743794\n",
       "11     50811.08205128205\n",
       "12     50811.08205128205\n",
       "13     73264.42628205128\n",
       "14     48017.31543624161\n",
       "15     59587.04887459807\n",
       "16     48616.22784810127\n",
       "17     53017.75304136253\n",
       "18     53017.75304136253\n",
       "19    53885.612648221344\n",
       "20     45285.80253623189\n",
       "21     44957.99376114082\n",
       "22     49181.97435897436\n",
       "23     78765.40072463769\n",
       "24     78765.40072463769\n",
       "25     72838.93672627235\n",
       "26     51201.83003663004\n",
       "27       62820.833959429\n",
       "28     38909.91920731707\n",
       "29     49763.98772563177\n",
       "30     49763.98772563177\n",
       "31    47645.682835820895\n",
       "32    55916.469696969696\n",
       "33    55526.525073746314\n",
       "34      68728.8595890411\n",
       "35     76581.08341708542\n",
       "36     76581.08341708542\n",
       "37     47329.96787148595\n",
       "38     64290.74911292006\n",
       "39     49937.46413697362\n",
       "40    58188.112195121954\n",
       "41     49655.24846625767\n",
       "42     49655.24846625767\n",
       "43     48100.85426653883\n",
       "44     54271.90181818182\n",
       "45     56170.46451005025\n",
       "46    20720.538285714287\n",
       "47    59125.270833333336\n",
       "48    59125.270833333336\n",
       "49    46296.807763401106\n",
       "50     51805.40540540541\n",
       "51    47328.083616587355\n",
       "52    55874.522600500095\n",
       "53     63488.91780821918\n",
       "54     63488.91780821918\n",
       "55     55602.96721311475\n",
       "56     72866.01341201717\n",
       "57     64493.76768377254\n",
       "58     41437.11157024794\n",
       "59    53898.889208633096\n",
       "Name: Income, dtype: object"
      ]
     },
     "execution_count": 153,
     "metadata": {},
     "output_type": "execute_result"
    }
   ],
   "source": [
    "import re\n",
    "us_census['Income'] = us_census['Income'].replace({'\\$': '', ',': ''}, regex=True)\n",
    "us_census['Income']"
   ]
  },
  {
   "cell_type": "markdown",
   "id": "38732c0d",
   "metadata": {},
   "source": [
    "#### Look at the GenderPop column. We are going to want to separate this into two columns, the Men column, and the Women column. Split the column into those two new columns using str.split and separating out those results."
   ]
  },
  {
   "cell_type": "code",
   "execution_count": 154,
   "id": "4fa0e509",
   "metadata": {},
   "outputs": [],
   "source": [
    "us_census['split_gender']=us_census['GenderPop'].str.split(\"_\")"
   ]
  },
  {
   "cell_type": "code",
   "execution_count": 155,
   "id": "204d9f3f",
   "metadata": {},
   "outputs": [],
   "source": [
    "us_census[['Male','Female']]=pd.DataFrame(us_census['split_gender'].tolist())"
   ]
  },
  {
   "cell_type": "code",
   "execution_count": 156,
   "id": "1feca965",
   "metadata": {},
   "outputs": [
    {
     "data": {
      "text/html": [
       "<div>\n",
       "<style scoped>\n",
       "    .dataframe tbody tr th:only-of-type {\n",
       "        vertical-align: middle;\n",
       "    }\n",
       "\n",
       "    .dataframe tbody tr th {\n",
       "        vertical-align: top;\n",
       "    }\n",
       "\n",
       "    .dataframe thead th {\n",
       "        text-align: right;\n",
       "    }\n",
       "</style>\n",
       "<table border=\"1\" class=\"dataframe\">\n",
       "  <thead>\n",
       "    <tr style=\"text-align: right;\">\n",
       "      <th></th>\n",
       "      <th>Unnamed: 0</th>\n",
       "      <th>State</th>\n",
       "      <th>TotalPop</th>\n",
       "      <th>Hispanic</th>\n",
       "      <th>White</th>\n",
       "      <th>Black</th>\n",
       "      <th>Native</th>\n",
       "      <th>Asian</th>\n",
       "      <th>Pacific</th>\n",
       "      <th>Income</th>\n",
       "      <th>Male</th>\n",
       "      <th>Female</th>\n",
       "    </tr>\n",
       "  </thead>\n",
       "  <tbody>\n",
       "    <tr>\n",
       "      <th>0</th>\n",
       "      <td>0</td>\n",
       "      <td>Alabama</td>\n",
       "      <td>4830620</td>\n",
       "      <td>3.75%</td>\n",
       "      <td>61.88%</td>\n",
       "      <td>31.25%</td>\n",
       "      <td>0.45%</td>\n",
       "      <td>1.05%</td>\n",
       "      <td>0.03%</td>\n",
       "      <td>43296.36</td>\n",
       "      <td>2341093M</td>\n",
       "      <td>2489527F</td>\n",
       "    </tr>\n",
       "    <tr>\n",
       "      <th>1</th>\n",
       "      <td>1</td>\n",
       "      <td>Alaska</td>\n",
       "      <td>733375</td>\n",
       "      <td>5.91%</td>\n",
       "      <td>60.91%</td>\n",
       "      <td>2.85%</td>\n",
       "      <td>16.39%</td>\n",
       "      <td>5.45%</td>\n",
       "      <td>1.06%</td>\n",
       "      <td>70354.74</td>\n",
       "      <td>384160M</td>\n",
       "      <td>349215F</td>\n",
       "    </tr>\n",
       "    <tr>\n",
       "      <th>2</th>\n",
       "      <td>2</td>\n",
       "      <td>Arizona</td>\n",
       "      <td>6641928</td>\n",
       "      <td>29.57%</td>\n",
       "      <td>57.12%</td>\n",
       "      <td>3.85%</td>\n",
       "      <td>4.36%</td>\n",
       "      <td>2.88%</td>\n",
       "      <td>0.17%</td>\n",
       "      <td>54207.82</td>\n",
       "      <td>3299088M</td>\n",
       "      <td>3342840F</td>\n",
       "    </tr>\n",
       "    <tr>\n",
       "      <th>3</th>\n",
       "      <td>3</td>\n",
       "      <td>Arkansas</td>\n",
       "      <td>2958208</td>\n",
       "      <td>6.22%</td>\n",
       "      <td>71.14%</td>\n",
       "      <td>18.97%</td>\n",
       "      <td>0.52%</td>\n",
       "      <td>1.14%</td>\n",
       "      <td>0.15%</td>\n",
       "      <td>41935.63</td>\n",
       "      <td>1451913M</td>\n",
       "      <td>1506295F</td>\n",
       "    </tr>\n",
       "    <tr>\n",
       "      <th>4</th>\n",
       "      <td>4</td>\n",
       "      <td>California</td>\n",
       "      <td>38421464</td>\n",
       "      <td>37.29%</td>\n",
       "      <td>40.22%</td>\n",
       "      <td>5.68%</td>\n",
       "      <td>0.41%</td>\n",
       "      <td>13.05%</td>\n",
       "      <td>0.35%</td>\n",
       "      <td>67264.78</td>\n",
       "      <td>19087135M</td>\n",
       "      <td>19334329F</td>\n",
       "    </tr>\n",
       "  </tbody>\n",
       "</table>\n",
       "</div>"
      ],
      "text/plain": [
       "   Unnamed: 0       State  TotalPop Hispanic   White   Black  Native   Asian  \\\n",
       "0           0     Alabama   4830620    3.75%  61.88%  31.25%   0.45%   1.05%   \n",
       "1           1      Alaska    733375    5.91%  60.91%   2.85%  16.39%   5.45%   \n",
       "2           2     Arizona   6641928   29.57%  57.12%   3.85%   4.36%   2.88%   \n",
       "3           3    Arkansas   2958208    6.22%  71.14%  18.97%   0.52%   1.14%   \n",
       "4           4  California  38421464   37.29%  40.22%   5.68%   0.41%  13.05%   \n",
       "\n",
       "  Pacific     Income       Male     Female  \n",
       "0   0.03%  43296.36    2341093M   2489527F  \n",
       "1   1.06%  70354.74     384160M    349215F  \n",
       "2   0.17%  54207.82    3299088M   3342840F  \n",
       "3   0.15%  41935.63    1451913M   1506295F  \n",
       "4   0.35%  67264.78   19087135M  19334329F  "
      ]
     },
     "execution_count": 156,
     "metadata": {},
     "output_type": "execute_result"
    }
   ],
   "source": [
    "data_f = us_census.drop(['GenderPop', 'split_gender'], axis=1)\n",
    "\n",
    "data_f.head()"
   ]
  },
  {
   "cell_type": "markdown",
   "id": "d7816c79",
   "metadata": {},
   "source": [
    "#### Convert both of the columns into numerical datatypes.There is still an M or an F character in each entry! We should remove those before we convert."
   ]
  },
  {
   "cell_type": "code",
   "execution_count": 171,
   "id": "f1c452da",
   "metadata": {},
   "outputs": [],
   "source": [
    "data_f['Male'] = data_f['Male'].replace({'M':''}, regex=True)\n",
    "data_f['Female'] = data_f['Female'].replace({'F':''}, regex=True)\n"
   ]
  },
  {
   "cell_type": "code",
   "execution_count": 175,
   "id": "4a6836ea",
   "metadata": {},
   "outputs": [],
   "source": [
    "data_f['Male'] = pd.to_numeric(data_f['Male'], errors='coerce').astype(float)\n",
    "data_f['Female'] = pd.to_numeric(data_f['Female'], errors='coerce').astype(float)\n",
    "data_f['Income'] = pd.to_numeric(data_f['Income'], errors='coerce').astype(float)\n",
    "\n"
   ]
  },
  {
   "cell_type": "markdown",
   "id": "26f234f7",
   "metadata": {},
   "source": [
    "#### Now you should have the columns you need to make the graph and make sure your boss does not slam a ruler angrily on your desk because you’ve wasted your whole day cleaning your data with no results to show! Use matplotlib to make a scatterplot! plt.scatter(the_women_column, the_income_column) Remember to call plt.show() to see the graph!"
   ]
  },
  {
   "cell_type": "code",
   "execution_count": 181,
   "id": "a778e8d5",
   "metadata": {},
   "outputs": [
    {
     "data": {
      "image/png": "[encoded data removed]",
      "text/plain": [
       "<Figure size 640x480 with 1 Axes>"
      ]
     },
     "metadata": {},
     "output_type": "display_data"
    }
   ],
   "source": [
    "\n",
    "plt.scatter(data_f['Female'],data_f['Income'])\n",
    "\n",
    "plt.xlabel(\"Female\")\n",
    "plt.ylabel(\"Income\")\n",
    "plt.show()"
   ]
  },
  {
   "cell_type": "markdown",
   "id": "d6d3eec7",
   "metadata": {},
   "source": [
    "#### Did you get an error? These monstrous csv files probably have nan values in them! Print out your column with the number of women per state to see.We can fill in those nans by using pandas’ .fillna() function.You have the TotalPop per state, and you have the Men per state. As an estimate for the nan values in the Women column, you could use the TotalPop of that state minus the Men for that state.Print out the Women column after filling the nan values to see if it worked!"
   ]
  },
  {
   "cell_type": "code",
   "execution_count": 182,
   "id": "6a54b598",
   "metadata": {},
   "outputs": [
    {
     "data": {
      "text/plain": [
       "Unnamed: 0    0\n",
       "State         0\n",
       "TotalPop      0\n",
       "Hispanic      0\n",
       "White         0\n",
       "Black         0\n",
       "Native        0\n",
       "Asian         0\n",
       "Pacific       5\n",
       "Income        0\n",
       "Male          0\n",
       "Female        3\n",
       "dtype: int64"
      ]
     },
     "execution_count": 182,
     "metadata": {},
     "output_type": "execute_result"
    }
   ],
   "source": [
    "data_f.isnull().sum()"
   ]
  },
  {
   "cell_type": "code",
   "execution_count": 192,
   "id": "ae85ccbb",
   "metadata": {},
   "outputs": [],
   "source": [
    "data_f['Female']=data_f['Female'].fillna(0)"
   ]
  },
  {
   "cell_type": "code",
   "execution_count": 200,
   "id": "bd479547",
   "metadata": {},
   "outputs": [],
   "source": [
    "data_f['Pacific']=data_f['Pacific'].fillna(0)\n"
   ]
  },
  {
   "cell_type": "code",
   "execution_count": 201,
   "id": "8fc0c181",
   "metadata": {},
   "outputs": [
    {
     "data": {
      "text/plain": [
       "Unnamed: 0    0\n",
       "State         0\n",
       "TotalPop      0\n",
       "Hispanic      0\n",
       "White         0\n",
       "Black         0\n",
       "Native        0\n",
       "Asian         0\n",
       "Pacific       0\n",
       "Income        0\n",
       "Male          0\n",
       "Female        0\n",
       "dtype: int64"
      ]
     },
     "execution_count": 201,
     "metadata": {},
     "output_type": "execute_result"
    }
   ],
   "source": [
    "data_f.isnull().sum()"
   ]
  },
  {
   "cell_type": "markdown",
   "id": "724b2876",
   "metadata": {},
   "source": [
    "#### We forgot to check for duplicates! Use .duplicated() on your census DataFrame to see if we have duplicate rows in there"
   ]
  },
  {
   "cell_type": "code",
   "execution_count": 203,
   "id": "172fddc8",
   "metadata": {},
   "outputs": [
    {
     "data": {
      "text/plain": [
       "0     False\n",
       "1     False\n",
       "2     False\n",
       "3     False\n",
       "4     False\n",
       "5     False\n",
       "6     False\n",
       "7     False\n",
       "8     False\n",
       "9     False\n",
       "10    False\n",
       "11    False\n",
       "12    False\n",
       "13    False\n",
       "14    False\n",
       "15    False\n",
       "16    False\n",
       "17    False\n",
       "18    False\n",
       "19    False\n",
       "20    False\n",
       "21    False\n",
       "22    False\n",
       "23    False\n",
       "24    False\n",
       "25    False\n",
       "26    False\n",
       "27    False\n",
       "28    False\n",
       "29    False\n",
       "30    False\n",
       "31    False\n",
       "32    False\n",
       "33    False\n",
       "34    False\n",
       "35    False\n",
       "36    False\n",
       "37    False\n",
       "38    False\n",
       "39    False\n",
       "40    False\n",
       "41    False\n",
       "42    False\n",
       "43    False\n",
       "44    False\n",
       "45    False\n",
       "46    False\n",
       "47    False\n",
       "48    False\n",
       "49    False\n",
       "50    False\n",
       "51    False\n",
       "52    False\n",
       "53    False\n",
       "54    False\n",
       "55    False\n",
       "56    False\n",
       "57    False\n",
       "58    False\n",
       "59    False\n",
       "dtype: bool"
      ]
     },
     "execution_count": 203,
     "metadata": {},
     "output_type": "execute_result"
    }
   ],
   "source": [
    "data_f.duplicated()\n"
   ]
  },
  {
   "cell_type": "markdown",
   "id": "2365e3dc",
   "metadata": {},
   "source": [
    "#### Make the scatterplot again. Now, it should be perfect! Your job is secure, for now"
   ]
  },
  {
   "cell_type": "code",
   "execution_count": 204,
   "id": "2c679c4c",
   "metadata": {},
   "outputs": [
    {
     "data": {
      "image/png": "[encoded data removed]",
      "text/plain": [
       "<Figure size 640x480 with 1 Axes>"
      ]
     },
     "metadata": {},
     "output_type": "display_data"
    }
   ],
   "source": [
    "plt.scatter(data_f['Female'],data_f['Income'])\n",
    "\n",
    "plt.xlabel(\"Female\")\n",
    "plt.ylabel(\"Income\")\n",
    "plt.show()"
   ]
  },
  {
   "cell_type": "markdown",
   "id": "ccdfc7b2",
   "metadata": {},
   "source": [
    "#### Histograms of Races 13. Now, your boss wants you to make a bunch of histograms out of the race data that you have. Look at the .columns again to see what the race categories are."
   ]
  },
  {
   "cell_type": "code",
   "execution_count": 222,
   "id": "1555c2ac",
   "metadata": {},
   "outputs": [],
   "source": [
    "data_f[['Hispanic','White','Black','Native','Asian','Pacific']]=data_f[['Hispanic','White','Black','Native','Asian','Pacific']].replace({'\\%':''},regex=True)"
   ]
  },
  {
   "cell_type": "code",
   "execution_count": 227,
   "id": "3571370f",
   "metadata": {},
   "outputs": [],
   "source": [
    "data_f[['Hispanic','White','Black','Native','Asian','Pacific']]=data_f[['Hispanic','White','Black','Native','Asian','Pacific']].astype(float)"
   ]
  },
  {
   "cell_type": "code",
   "execution_count": 232,
   "id": "2a0a036b",
   "metadata": {
    "scrolled": true
   },
   "outputs": [
    {
     "data": {
      "text/plain": [
       "Unnamed: 0      int64\n",
       "State          object\n",
       "TotalPop        int64\n",
       "Hispanic      float64\n",
       "White         float64\n",
       "Black         float64\n",
       "Native        float64\n",
       "Asian         float64\n",
       "Pacific       float64\n",
       "Income        float64\n",
       "Male          float64\n",
       "Female        float64\n",
       "dtype: object"
      ]
     },
     "execution_count": 232,
     "metadata": {},
     "output_type": "execute_result"
    }
   ],
   "source": [
    "data_f.dtypes"
   ]
  },
  {
   "cell_type": "code",
   "execution_count": 233,
   "id": "10b9ac19",
   "metadata": {},
   "outputs": [
    {
     "data": {
      "text/plain": [
       "Index(['Unnamed: 0', 'State', 'TotalPop', 'Hispanic', 'White', 'Black',\n",
       "       'Native', 'Asian', 'Pacific', 'Income', 'Male', 'Female'],\n",
       "      dtype='object')"
      ]
     },
     "execution_count": 233,
     "metadata": {},
     "output_type": "execute_result"
    }
   ],
   "source": [
    "data_f.columns"
   ]
  },
  {
   "cell_type": "code",
   "execution_count": 236,
   "id": "4bec6cb0",
   "metadata": {},
   "outputs": [
    {
     "data": {
      "text/plain": [
       "(array([[36., 15.,  5.,  2.,  1.,  0.,  0.,  0.,  0.,  1.],\n",
       "        [ 1.,  0.,  1.,  1.,  3., 12.,  9., 17., 12.,  4.],\n",
       "        [32., 16.,  4.,  6.,  1.,  1.,  0.,  0.,  0.,  0.],\n",
       "        [59.,  1.,  0.,  0.,  0.,  0.,  0.,  0.,  0.,  0.],\n",
       "        [58.,  1.,  0.,  1.,  0.,  0.,  0.,  0.,  0.,  0.],\n",
       "        [60.,  0.,  0.,  0.,  0.,  0.,  0.,  0.,  0.,  0.]]),\n",
       " array([ 0.        ,  9.88935738, 19.77871477, 29.66807215, 39.55742954,\n",
       "        49.44678692, 59.33614431, 69.22550169, 79.11485908, 89.00421646,\n",
       "        98.89357384]),\n",
       " <a list of 6 BarContainer objects>)"
      ]
     },
     "execution_count": 236,
     "metadata": {},
     "output_type": "execute_result"
    },
    {
     "data": {
      "image/png": "[encoded data removed]",
      "text/plain": [
       "<Figure size 640x480 with 1 Axes>"
      ]
     },
     "metadata": {},
     "output_type": "display_data"
    }
   ],
   "source": [
    "plt.hist(data_f[[ 'Hispanic', 'White', 'Black','Native', 'Asian', 'Pacific']],bins=10)"
   ]
  },
  {
   "cell_type": "markdown",
   "id": "391f50fa",
   "metadata": {},
   "source": [
    "#### Try to make a histogram for each one!You will have to get the columns into numerical format, and those percentage signs will have to go.Don’t forget to fill the nan values with something that makes sense! You probably dropped the duplicate rows when making your last graph, but it couldn’t hurt to check for duplicates again."
   ]
  },
  {
   "cell_type": "code",
   "execution_count": 239,
   "id": "657da382",
   "metadata": {},
   "outputs": [
    {
     "data": {
      "text/plain": [
       "(array([37., 16.,  3.,  2.,  1.,  0.,  0.,  0.,  0.,  1.]),\n",
       " array([ 1.29090909, 11.05117557, 20.81144204, 30.57170852, 40.33197499,\n",
       "        50.09224147, 59.85250794, 69.61277442, 79.37304089, 89.13330737,\n",
       "        98.89357384]),\n",
       " <BarContainer object of 10 artists>)"
      ]
     },
     "execution_count": 239,
     "metadata": {},
     "output_type": "execute_result"
    },
    {
     "data": {
      "image/png": "[encoded data removed]",
      "text/plain": [
       "<Figure size 640x480 with 1 Axes>"
      ]
     },
     "metadata": {},
     "output_type": "display_data"
    }
   ],
   "source": [
    "plt.hist(data_f['Hispanic'],bins=10)\n"
   ]
  },
  {
   "cell_type": "code",
   "execution_count": 240,
   "id": "9b47ccab",
   "metadata": {},
   "outputs": [
    {
     "data": {
      "text/plain": [
       "(array([ 1.,  0.,  1.,  1.,  3., 10.,  9., 11., 15.,  9.]),\n",
       " array([ 0.77361894, 10.09456306, 19.41550717, 28.73645129, 38.05739541,\n",
       "        47.37833952, 56.69928364, 66.02022776, 75.34117188, 84.66211599,\n",
       "        93.98306011]),\n",
       " <BarContainer object of 10 artists>)"
      ]
     },
     "execution_count": 240,
     "metadata": {},
     "output_type": "execute_result"
    },
    {
     "data": {
      "image/png": "[encoded data removed]",
      "text/plain": [
       "<Figure size 640x480 with 1 Axes>"
      ]
     },
     "metadata": {},
     "output_type": "display_data"
    }
   ],
   "source": [
    "plt.hist(data_f['White'],bins=10)\n"
   ]
  },
  {
   "cell_type": "code",
   "execution_count": 241,
   "id": "64bb306d",
   "metadata": {},
   "outputs": [
    {
     "data": {
      "text/plain": [
       "(array([22., 11.,  8.,  9.,  1.,  3.,  3.,  1.,  1.,  1.]),\n",
       " array([ 0.09255919,  5.2609569 , 10.42935461, 15.59775233, 20.76615004,\n",
       "        25.93454775, 31.10294546, 36.27134318, 41.43974089, 46.6081386 ,\n",
       "        51.77653631]),\n",
       " <BarContainer object of 10 artists>)"
      ]
     },
     "execution_count": 241,
     "metadata": {},
     "output_type": "execute_result"
    },
    {
     "data": {
      "image/png": "[encoded data removed]",
      "text/plain": [
       "<Figure size 640x480 with 1 Axes>"
      ]
     },
     "metadata": {},
     "output_type": "display_data"
    }
   ],
   "source": [
    "plt.hist(data_f['Black'],bins=10)\n"
   ]
  },
  {
   "cell_type": "code",
   "execution_count": 242,
   "id": "cc93e7a6",
   "metadata": {},
   "outputs": [
    {
     "data": {
      "text/plain": [
       "(array([53.,  0.,  1.,  1.,  2.,  2.,  0.,  0.,  0.,  1.]),\n",
       " array([2.81848929e-03, 1.64153664e+00, 3.28025479e+00, 4.91897294e+00,\n",
       "        6.55769109e+00, 8.19640924e+00, 9.83512740e+00, 1.14738455e+01,\n",
       "        1.31125637e+01, 1.47512818e+01, 1.63900000e+01]),\n",
       " <BarContainer object of 10 artists>)"
      ]
     },
     "execution_count": 242,
     "metadata": {},
     "output_type": "execute_result"
    },
    {
     "data": {
      "image/png": "[encoded data removed]",
      "text/plain": [
       "<Figure size 640x480 with 1 Axes>"
      ]
     },
     "metadata": {},
     "output_type": "display_data"
    }
   ],
   "source": [
    "plt.hist(data_f['Native'],bins=10)\n"
   ]
  },
  {
   "cell_type": "code",
   "execution_count": 243,
   "id": "8132fb50",
   "metadata": {},
   "outputs": [
    {
     "data": {
      "text/plain": [
       "(array([45., 10.,  3.,  1.,  0.,  0.,  0.,  0.,  0.,  1.]),\n",
       " array([ 0.07519729,  3.72688643,  7.37857556, 11.03026469, 14.68195382,\n",
       "        18.33364295, 21.98533208, 25.63702121, 29.28871034, 32.94039948,\n",
       "        36.59208861]),\n",
       " <BarContainer object of 10 artists>)"
      ]
     },
     "execution_count": 243,
     "metadata": {},
     "output_type": "execute_result"
    },
    {
     "data": {
      "image/png": "[encoded data removed]",
      "text/plain": [
       "<Figure size 640x480 with 1 Axes>"
      ]
     },
     "metadata": {},
     "output_type": "display_data"
    }
   ],
   "source": [
    "plt.hist(data_f['Asian'],bins=10)"
   ]
  },
  {
   "cell_type": "markdown",
   "id": "4fb268f3",
   "metadata": {},
   "source": [
    "#### Get Creative 15. Phew. You’ve definitely impressed your boss on your first day of work.But is there a way you really convey the power of pandas and Python over the drudgery of csv and Excel?Try to make some more interesting graphs to show your boss, and the world! You may need to clean the data even more to do it, or the cleaning you have already done may give you the ease of manipulation you’ve been searching for."
   ]
  },
  {
   "cell_type": "code",
   "execution_count": 252,
   "id": "296aa0d9",
   "metadata": {},
   "outputs": [],
   "source": [
    "data_f=data_f.head()"
   ]
  },
  {
   "cell_type": "code",
   "execution_count": 253,
   "id": "a619391e",
   "metadata": {},
   "outputs": [
    {
     "data": {
      "text/plain": [
       "Text(0.5, 1.0, 'population in a state')"
      ]
     },
     "execution_count": 253,
     "metadata": {},
     "output_type": "execute_result"
    },
    {
     "data": {
      "image/png": "[encoded data removed]",
      "text/plain": [
       "<Figure size 640x480 with 1 Axes>"
      ]
     },
     "metadata": {},
     "output_type": "display_data"
    }
   ],
   "source": [
    "plt.pie(data_f['TotalPop'], labels=data_f['State'],colors= ['red', 'blue', 'green', 'yellow','pink'], autopct='%1.1f%%')\n",
    "plt.axis('Equal')\n",
    "plt.title('population in a state')"
   ]
  }
 ],
 "metadata": {
  "kernelspec": {
   "display_name": "Python 3 (ipykernel)",
   "language": "python",
   "name": "python3"
  },
  "language_info": {
   "codemirror_mode": {
    "name": "ipython",
    "version": 3
   },
   "file_extension": ".py",
   "mimetype": "text/x-python",
   "name": "python",
   "nbconvert_exporter": "python",
   "pygments_lexer": "ipython3",
   "version": "3.10.9"
  }
 },
 "nbformat": 4,
 "nbformat_minor": 5
}
